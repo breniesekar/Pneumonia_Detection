{
 "cells": [
  {
   "cell_type": "markdown",
   "metadata": {
    "colab_type": "text",
    "id": "SptrHhX_0Sac"
   },
   "source": [
    "### Mounting Drive"
   ]
  },
  {
   "cell_type": "code",
   "execution_count": 0,
   "metadata": {
    "colab": {},
    "colab_type": "code",
    "id": "T5p0PxaAo9Ig"
   },
   "outputs": [],
   "source": [
    "from google.colab import drive"
   ]
  },
  {
   "cell_type": "code",
   "execution_count": 0,
   "metadata": {
    "colab": {
     "base_uri": "https://localhost:8080/",
     "height": 36
    },
    "colab_type": "code",
    "id": "tosTcUA1o-If",
    "outputId": "aa4ba1b2-64aa-42bf-e340-accd7777106f"
   },
   "outputs": [
    {
     "name": "stdout",
     "output_type": "stream",
     "text": [
      "Drive already mounted at /content/drive; to attempt to forcibly remount, call drive.mount(\"/content/drive\", force_remount=True).\n"
     ]
    }
   ],
   "source": [
    "drive.mount('/content/drive')"
   ]
  },
  {
   "cell_type": "code",
   "execution_count": 0,
   "metadata": {
    "colab": {},
    "colab_type": "code",
    "id": "KtKvL7XpqbY9"
   },
   "outputs": [],
   "source": [
    "import os\n",
    "os.environ['KAGGLE_CONFIG_DIR'] = \"/content/drive/My Drive/Capstone_Project/Kaggle\""
   ]
  },
  {
   "cell_type": "code",
   "execution_count": 0,
   "metadata": {
    "colab": {
     "base_uri": "https://localhost:8080/",
     "height": 34
    },
    "colab_type": "code",
    "id": "S-5pXigsq6io",
    "outputId": "00498315-b391-46ab-c6b6-9b952f528f56"
   },
   "outputs": [
    {
     "name": "stdout",
     "output_type": "stream",
     "text": [
      "/content/drive/My Drive/Capstone_Project/Kaggle\n"
     ]
    }
   ],
   "source": [
    "%cd /content/drive/My Drive/Capstone_Project/Kaggle"
   ]
  },
  {
   "cell_type": "code",
   "execution_count": 0,
   "metadata": {
    "colab": {
     "base_uri": "https://localhost:8080/",
     "height": 34
    },
    "colab_type": "code",
    "id": "PM-UFXgsq9hc",
    "outputId": "ca64cd41-e32a-47e7-c64f-fd188f47a794"
   },
   "outputs": [
    {
     "data": {
      "text/plain": [
       "'/content/drive/My Drive/Capstone_Project/Kaggle'"
      ]
     },
     "execution_count": 5,
     "metadata": {
      "tags": []
     },
     "output_type": "execute_result"
    }
   ],
   "source": [
    "pwd"
   ]
  },
  {
   "cell_type": "markdown",
   "metadata": {
    "colab_type": "text",
    "id": "sM8M4_HG0Xrt"
   },
   "source": [
    "### Downloading the dataset from Kaggle"
   ]
  },
  {
   "cell_type": "code",
   "execution_count": 0,
   "metadata": {
    "colab": {
     "base_uri": "https://localhost:8080/",
     "height": 655
    },
    "colab_type": "code",
    "id": "VNcB6Mzlrjn5",
    "outputId": "dc950d9c-c6f2-4da9-9668-6072f20d2970"
   },
   "outputs": [
    {
     "name": "stdout",
     "output_type": "stream",
     "text": [
      "Uninstalling kaggle-1.5.6:\n",
      "  Successfully uninstalled kaggle-1.5.6\n",
      "Collecting pip\n",
      "\u001b[?25l  Downloading https://files.pythonhosted.org/packages/43/84/23ed6a1796480a6f1a2d38f2802901d078266bda38388954d01d3f2e821d/pip-20.1.1-py2.py3-none-any.whl (1.5MB)\n",
      "\u001b[K     |████████████████████████████████| 1.5MB 7.6MB/s \n",
      "\u001b[?25hInstalling collected packages: pip\n",
      "  Found existing installation: pip 19.3.1\n",
      "    Uninstalling pip-19.3.1:\n",
      "      Successfully uninstalled pip-19.3.1\n",
      "Successfully installed pip-20.1.1\n",
      "Collecting kaggle==1.5.6\n",
      "  Downloading kaggle-1.5.6.tar.gz (58 kB)\n",
      "\u001b[K     |████████████████████████████████| 58 kB 3.7 MB/s \n",
      "\u001b[?25hRequirement already satisfied: urllib3<1.25,>=1.21.1 in /usr/local/lib/python3.6/dist-packages (from kaggle==1.5.6) (1.24.3)\n",
      "Requirement already satisfied: six>=1.10 in /usr/local/lib/python3.6/dist-packages (from kaggle==1.5.6) (1.12.0)\n",
      "Requirement already satisfied: certifi in /usr/local/lib/python3.6/dist-packages (from kaggle==1.5.6) (2020.4.5.1)\n",
      "Requirement already satisfied: python-dateutil in /usr/local/lib/python3.6/dist-packages (from kaggle==1.5.6) (2.8.1)\n",
      "Requirement already satisfied: requests in /usr/local/lib/python3.6/dist-packages (from kaggle==1.5.6) (2.23.0)\n",
      "Requirement already satisfied: tqdm in /usr/local/lib/python3.6/dist-packages (from kaggle==1.5.6) (4.41.1)\n",
      "Requirement already satisfied: python-slugify in /usr/local/lib/python3.6/dist-packages (from kaggle==1.5.6) (4.0.0)\n",
      "Requirement already satisfied: chardet<4,>=3.0.2 in /usr/local/lib/python3.6/dist-packages (from requests->kaggle==1.5.6) (3.0.4)\n",
      "Requirement already satisfied: idna<3,>=2.5 in /usr/local/lib/python3.6/dist-packages (from requests->kaggle==1.5.6) (2.9)\n",
      "Requirement already satisfied: text-unidecode>=1.3 in /usr/local/lib/python3.6/dist-packages (from python-slugify->kaggle==1.5.6) (1.3)\n",
      "Building wheels for collected packages: kaggle\n",
      "  Building wheel for kaggle (setup.py) ... \u001b[?25l\u001b[?25hdone\n",
      "  Created wheel for kaggle: filename=kaggle-1.5.6-py3-none-any.whl size=72859 sha256=10cffc6f5f6bec53b2632f2a74a3def03edc13ca000127fafde6332eab5c86a7\n",
      "  Stored in directory: /root/.cache/pip/wheels/01/3e/ff/77407ebac3ef71a79b9166a8382aecf88415a0bcbe3c095a01\n",
      "Successfully built kaggle\n",
      "Installing collected packages: kaggle\n",
      "Successfully installed kaggle-1.5.6\n",
      "Traceback (most recent call last):\n",
      "  File \"/usr/local/bin/kaggle\", line 5, in <module>\n",
      "    from kaggle.cli import main\n",
      "  File \"/usr/local/lib/python3.6/dist-packages/kaggle/__init__.py\", line 23, in <module>\n",
      "    api.authenticate()\n",
      "  File \"/usr/local/lib/python3.6/dist-packages/kaggle/api/kaggle_api_extended.py\", line 149, in authenticate\n",
      "    self.config_file, self.config_dir))\n",
      "OSError: Could not find kaggle.json. Make sure it's located in /content/drive/My Drive/Capstone_Project/Kaggle. Or use the environment method.\n"
     ]
    }
   ],
   "source": [
    "!pip uninstall -y kaggle\n",
    "!pip install --upgrade pip\n",
    "!pip install kaggle==1.5.6\n",
    "!kaggle -v"
   ]
  },
  {
   "cell_type": "code",
   "execution_count": 0,
   "metadata": {
    "colab": {
     "base_uri": "https://localhost:8080/",
     "height": 151
    },
    "colab_type": "code",
    "id": "SNcSxCrfwDV0",
    "outputId": "c4f82e9e-085e-4d4a-f154-031114b7aee8"
   },
   "outputs": [
    {
     "name": "stdout",
     "output_type": "stream",
     "text": [
      "Traceback (most recent call last):\n",
      "  File \"/usr/local/bin/kaggle\", line 5, in <module>\n",
      "    from kaggle.cli import main\n",
      "  File \"/usr/local/lib/python3.6/dist-packages/kaggle/__init__.py\", line 23, in <module>\n",
      "    api.authenticate()\n",
      "  File \"/usr/local/lib/python3.6/dist-packages/kaggle/api/kaggle_api_extended.py\", line 149, in authenticate\n",
      "    self.config_file, self.config_dir))\n",
      "OSError: Could not find kaggle.json. Make sure it's located in /content/drive/My Drive/Capstone_Project/Kaggle. Or use the environment method.\n"
     ]
    }
   ],
   "source": [
    "!kaggle -v"
   ]
  },
  {
   "cell_type": "code",
   "execution_count": 0,
   "metadata": {
    "colab": {},
    "colab_type": "code",
    "id": "pwWDfjSDCv9e"
   },
   "outputs": [],
   "source": [
    "os.environ['KAGGLE_USERNAME']=\"skrishkumar\"\n",
    "os.environ['KAGGLE_KEY']=\"948b18d04b1729cc7d03fa5dd3316ddd\""
   ]
  },
  {
   "cell_type": "code",
   "execution_count": 0,
   "metadata": {
    "colab": {
     "base_uri": "https://localhost:8080/",
     "height": 67
    },
    "colab_type": "code",
    "id": "jmH_gj-7wL5e",
    "outputId": "7eb7471e-df31-4726-f5c7-a20e99d5e9de"
   },
   "outputs": [
    {
     "name": "stdout",
     "output_type": "stream",
     "text": [
      "Downloading rsna-pneumonia-detection-challenge.zip to /content/drive/My Drive/Capstone_Project/Kaggle\n",
      "100% 3.65G/3.66G [00:48<00:00, 134MB/s]\n",
      "100% 3.66G/3.66G [00:48<00:00, 81.5MB/s]\n"
     ]
    }
   ],
   "source": [
    "!kaggle competitions download -c rsna-pneumonia-detection-challenge"
   ]
  },
  {
   "cell_type": "markdown",
   "metadata": {
    "colab_type": "text",
    "id": "CSZESgOh0d67"
   },
   "source": [
    "### Extracting the downloaded files and Observing the training and testing images"
   ]
  },
  {
   "cell_type": "code",
   "execution_count": 0,
   "metadata": {
    "colab": {},
    "colab_type": "code",
    "id": "WSPQmDfWwv_x"
   },
   "outputs": [],
   "source": [
    "!unzip -q -o '/content/drive/My Drive/Capstone_Project/Kaggle/rsna-pneumonia-detection-challenge.zip' -d '/content/drive/My Drive/Capstone_Project/Data'"
   ]
  },
  {
   "cell_type": "code",
   "execution_count": 0,
   "metadata": {
    "colab": {},
    "colab_type": "code",
    "id": "twyWrISGX7Oj"
   },
   "outputs": [],
   "source": [
    "project_path='/content/drive/My Drive/Capstone_Project/Data'\n",
    "os.chdir(project_path)"
   ]
  },
  {
   "cell_type": "code",
   "execution_count": 0,
   "metadata": {
    "colab": {
     "base_uri": "https://localhost:8080/",
     "height": 73
    },
    "colab_type": "code",
    "id": "-8W-d_4VVm25",
    "outputId": "0b22ea07-8334-4d27-8c23-41aba14f0c24"
   },
   "outputs": [
    {
     "name": "stdout",
     "output_type": "stream",
     "text": [
      "'GCP Credits Request Link - RSNA.txt'   stage_2_test_images\n",
      " stage_2_detailed_class_info.csv        stage_2_train_images\n",
      " stage_2_sample_submission.csv\t        stage_2_train_labels.csv\n"
     ]
    }
   ],
   "source": [
    "!ls"
   ]
  },
  {
   "cell_type": "code",
   "execution_count": 0,
   "metadata": {
    "colab": {},
    "colab_type": "code",
    "id": "GZNIrolaVs0B"
   },
   "outputs": [],
   "source": [
    "project_path='/content/drive/My Drive/Capstone_Project/Data/stage_2_train_images'\n",
    "os.chdir(project_path)"
   ]
  },
  {
   "cell_type": "code",
   "execution_count": 0,
   "metadata": {
    "colab": {
     "base_uri": "https://localhost:8080/",
     "height": 36
    },
    "colab_type": "code",
    "id": "Hi6-qOxLV30L",
    "outputId": "fd21ff7e-d3ee-4d27-b6ff-a54c65a2e7ad"
   },
   "outputs": [
    {
     "data": {
      "text/plain": [
       "26684"
      ]
     },
     "execution_count": 9,
     "metadata": {
      "tags": []
     },
     "output_type": "execute_result"
    }
   ],
   "source": [
    "len(os.listdir(project_path))"
   ]
  },
  {
   "cell_type": "code",
   "execution_count": 0,
   "metadata": {
    "colab": {},
    "colab_type": "code",
    "id": "DtF8G1qdezyS"
   },
   "outputs": [],
   "source": [
    "project_path='/content/drive/My Drive/Capstone_Project/Data/stage_2_test_images'\n",
    "os.chdir(project_path)"
   ]
  },
  {
   "cell_type": "code",
   "execution_count": 0,
   "metadata": {
    "colab": {
     "base_uri": "https://localhost:8080/",
     "height": 36
    },
    "colab_type": "code",
    "id": "zEpSfUuXrog-",
    "outputId": "7a46e833-ac1e-467d-9e71-44b9e0d01184"
   },
   "outputs": [
    {
     "data": {
      "text/plain": [
       "3000"
      ]
     },
     "execution_count": 11,
     "metadata": {
      "tags": []
     },
     "output_type": "execute_result"
    }
   ],
   "source": [
    "len(os.listdir(project_path))"
   ]
  },
  {
   "cell_type": "code",
   "execution_count": 0,
   "metadata": {
    "colab": {
     "base_uri": "https://localhost:8080/",
     "height": 36
    },
    "colab_type": "code",
    "id": "Dt_ZOmOBtM6Z",
    "outputId": "c4fc6dcc-10d6-4222-84f5-61dbbc389268"
   },
   "outputs": [
    {
     "data": {
      "text/plain": [
       "26684"
      ]
     },
     "execution_count": 12,
     "metadata": {
      "tags": []
     },
     "output_type": "execute_result"
    }
   ],
   "source": [
    "project_path='/content/drive/My Drive/Capstone_Project/Data/stage_2_train_images'\n",
    "os.chdir(project_path)\n",
    "len(os.listdir(project_path))"
   ]
  },
  {
   "cell_type": "markdown",
   "metadata": {
    "colab_type": "text",
    "id": "9GTrD0T50lkz"
   },
   "source": [
    "### Image Enhancement"
   ]
  },
  {
   "cell_type": "code",
   "execution_count": 0,
   "metadata": {
    "colab": {
     "base_uri": "https://localhost:8080/",
     "height": 36
    },
    "colab_type": "code",
    "id": "qGhsAu6otM2t",
    "outputId": "14dff2e8-eee5-48c9-9655-0bc59713909d"
   },
   "outputs": [
    {
     "data": {
      "text/plain": [
       "[]"
      ]
     },
     "execution_count": 16,
     "metadata": {
      "tags": []
     },
     "output_type": "execute_result"
    }
   ],
   "source": [
    "jpg_folder_path='/content/drive/My Drive/Capstone_Project/Data/jpg_training_images'\n",
    "os.listdir(jpg_folder_path)"
   ]
  },
  {
   "cell_type": "code",
   "execution_count": 0,
   "metadata": {
    "colab": {
     "base_uri": "https://localhost:8080/",
     "height": 36
    },
    "colab_type": "code",
    "id": "8BbuheyLtU0o",
    "outputId": "1df1e417-fdeb-4205-b145-d5c3495c926e"
   },
   "outputs": [
    {
     "data": {
      "text/plain": [
       "'/content/drive/My Drive/Capstone_Project/Data/stage_2_train_images'"
      ]
     },
     "execution_count": 17,
     "metadata": {
      "tags": []
     },
     "output_type": "execute_result"
    }
   ],
   "source": [
    "project_path"
   ]
  },
  {
   "cell_type": "code",
   "execution_count": 0,
   "metadata": {
    "colab": {},
    "colab_type": "code",
    "id": "lYEag_E5uCU2"
   },
   "outputs": [],
   "source": [
    "# Specify the .dcm folder path\n",
    "project_path = '/content/drive/My Drive/Capstone_Project/Data/stage_2_train_images'\n",
    "os.chdir(project_path)\n",
    "# Specify the .jpg/.png folder path\n",
    "jpg_folder_path = '/content/drive/My Drive/Capstone_Project/Data/jpg_training_images'\n",
    "images_path = os.listdir(project_path)"
   ]
  },
  {
   "cell_type": "code",
   "execution_count": 0,
   "metadata": {
    "colab": {
     "base_uri": "https://localhost:8080/",
     "height": 36
    },
    "colab_type": "code",
    "id": "EDqzMC5YuJUE",
    "outputId": "6aaff8b2-c8e6-438f-eb31-aa594f560824"
   },
   "outputs": [
    {
     "data": {
      "text/plain": [
       "26684"
      ]
     },
     "execution_count": 19,
     "metadata": {
      "tags": []
     },
     "output_type": "execute_result"
    }
   ],
   "source": [
    "len(images_path)"
   ]
  },
  {
   "cell_type": "code",
   "execution_count": 0,
   "metadata": {
    "colab": {
     "base_uri": "https://localhost:8080/",
     "height": 110
    },
    "colab_type": "code",
    "id": "GqnEfRrquMp9",
    "outputId": "52b577f3-e3f4-4e67-b078-e1ea3c51502c"
   },
   "outputs": [
    {
     "name": "stdout",
     "output_type": "stream",
     "text": [
      "Collecting pydicom\n",
      "\u001b[?25l  Downloading https://files.pythonhosted.org/packages/d3/56/342e1f8ce5afe63bf65c23d0b2c1cd5a05600caad1c211c39725d3a4cc56/pydicom-2.0.0-py3-none-any.whl (35.4MB)\n",
      "\u001b[K     |████████████████████████████████| 35.5MB 120kB/s \n",
      "\u001b[?25hInstalling collected packages: pydicom\n",
      "Successfully installed pydicom-2.0.0\n"
     ]
    }
   ],
   "source": [
    "pip install pydicom"
   ]
  },
  {
   "cell_type": "code",
   "execution_count": 0,
   "metadata": {
    "colab": {},
    "colab_type": "code",
    "id": "bluvmqviuSsZ"
   },
   "outputs": [],
   "source": [
    "import pydicom\n",
    "import cv2"
   ]
  },
  {
   "cell_type": "code",
   "execution_count": 0,
   "metadata": {
    "colab": {
     "base_uri": "https://localhost:8080/",
     "height": 1000
    },
    "colab_type": "code",
    "id": "BXAQ9CkauYYH",
    "outputId": "36c79474-39ba-4ba7-a203-bac2671cd8ea"
   },
   "outputs": [
    {
     "name": "stdout",
     "output_type": "stream",
     "text": [
      "0 image converted\n",
      "100 image converted\n",
      "200 image converted\n",
      "300 image converted\n",
      "400 image converted\n",
      "500 image converted\n",
      "600 image converted\n",
      "700 image converted\n",
      "800 image converted\n",
      "900 image converted\n",
      "1000 image converted\n",
      "1100 image converted\n",
      "1200 image converted\n",
      "1300 image converted\n",
      "1400 image converted\n",
      "1500 image converted\n",
      "1600 image converted\n",
      "1700 image converted\n",
      "1800 image converted\n",
      "1900 image converted\n",
      "2000 image converted\n",
      "2100 image converted\n",
      "2200 image converted\n",
      "2300 image converted\n",
      "2400 image converted\n",
      "2500 image converted\n",
      "2600 image converted\n",
      "2700 image converted\n",
      "2800 image converted\n",
      "2900 image converted\n",
      "3000 image converted\n",
      "3100 image converted\n",
      "3200 image converted\n",
      "3300 image converted\n",
      "3400 image converted\n",
      "3500 image converted\n",
      "3600 image converted\n",
      "3700 image converted\n",
      "3800 image converted\n",
      "3900 image converted\n",
      "4000 image converted\n",
      "4100 image converted\n",
      "4200 image converted\n",
      "4300 image converted\n",
      "4400 image converted\n",
      "4500 image converted\n",
      "4600 image converted\n",
      "4700 image converted\n",
      "4800 image converted\n",
      "4900 image converted\n",
      "5000 image converted\n",
      "5100 image converted\n",
      "5200 image converted\n",
      "5300 image converted\n",
      "5400 image converted\n",
      "5500 image converted\n",
      "5600 image converted\n",
      "5700 image converted\n",
      "5800 image converted\n",
      "5900 image converted\n",
      "6000 image converted\n",
      "6100 image converted\n",
      "6200 image converted\n",
      "6300 image converted\n",
      "6400 image converted\n",
      "6500 image converted\n",
      "6600 image converted\n",
      "6700 image converted\n",
      "6800 image converted\n",
      "6900 image converted\n",
      "7000 image converted\n",
      "7100 image converted\n",
      "7200 image converted\n",
      "7300 image converted\n",
      "7400 image converted\n",
      "7500 image converted\n",
      "7600 image converted\n",
      "7700 image converted\n",
      "7800 image converted\n",
      "7900 image converted\n",
      "8000 image converted\n",
      "8100 image converted\n",
      "8200 image converted\n",
      "8300 image converted\n",
      "8400 image converted\n",
      "8500 image converted\n",
      "8600 image converted\n",
      "8700 image converted\n",
      "8800 image converted\n",
      "8900 image converted\n",
      "9000 image converted\n",
      "9100 image converted\n",
      "9200 image converted\n",
      "9300 image converted\n",
      "9400 image converted\n",
      "9500 image converted\n",
      "9600 image converted\n",
      "9700 image converted\n",
      "9800 image converted\n",
      "9900 image converted\n",
      "10000 image converted\n",
      "10100 image converted\n",
      "10200 image converted\n",
      "10300 image converted\n",
      "10400 image converted\n",
      "10500 image converted\n",
      "10600 image converted\n",
      "10700 image converted\n",
      "10800 image converted\n",
      "10900 image converted\n",
      "11000 image converted\n",
      "11100 image converted\n",
      "11200 image converted\n",
      "11300 image converted\n",
      "11400 image converted\n",
      "11500 image converted\n",
      "11600 image converted\n",
      "11700 image converted\n",
      "11800 image converted\n",
      "11900 image converted\n",
      "12000 image converted\n",
      "12100 image converted\n",
      "12200 image converted\n",
      "12300 image converted\n",
      "12400 image converted\n",
      "12500 image converted\n",
      "12600 image converted\n",
      "12700 image converted\n",
      "12800 image converted\n",
      "12900 image converted\n",
      "13000 image converted\n",
      "13100 image converted\n",
      "13200 image converted\n",
      "13300 image converted\n",
      "13400 image converted\n",
      "13500 image converted\n",
      "13600 image converted\n",
      "13700 image converted\n",
      "13800 image converted\n",
      "13900 image converted\n",
      "14000 image converted\n",
      "14100 image converted\n",
      "14200 image converted\n",
      "14300 image converted\n",
      "14400 image converted\n",
      "14500 image converted\n",
      "14600 image converted\n",
      "14700 image converted\n",
      "14800 image converted\n",
      "14900 image converted\n",
      "15000 image converted\n",
      "15100 image converted\n",
      "15200 image converted\n",
      "15300 image converted\n",
      "15400 image converted\n",
      "15500 image converted\n",
      "15600 image converted\n",
      "15700 image converted\n",
      "15800 image converted\n",
      "15900 image converted\n",
      "16000 image converted\n",
      "16100 image converted\n",
      "16200 image converted\n",
      "16300 image converted\n",
      "16400 image converted\n",
      "16500 image converted\n",
      "16600 image converted\n",
      "16700 image converted\n",
      "16800 image converted\n",
      "16900 image converted\n",
      "17000 image converted\n",
      "17100 image converted\n",
      "17200 image converted\n",
      "17300 image converted\n",
      "17400 image converted\n",
      "17500 image converted\n",
      "17600 image converted\n",
      "17700 image converted\n",
      "17800 image converted\n",
      "17900 image converted\n",
      "18000 image converted\n",
      "18100 image converted\n",
      "18200 image converted\n",
      "18300 image converted\n",
      "18400 image converted\n",
      "18500 image converted\n",
      "18600 image converted\n",
      "18700 image converted\n",
      "18800 image converted\n",
      "18900 image converted\n",
      "19000 image converted\n",
      "19100 image converted\n",
      "19200 image converted\n",
      "19300 image converted\n",
      "19400 image converted\n",
      "19500 image converted\n",
      "19600 image converted\n",
      "19700 image converted\n",
      "19800 image converted\n",
      "19900 image converted\n",
      "20000 image converted\n",
      "20100 image converted\n",
      "20200 image converted\n",
      "20300 image converted\n",
      "20400 image converted\n",
      "20500 image converted\n",
      "20600 image converted\n",
      "20700 image converted\n",
      "20800 image converted\n",
      "20900 image converted\n",
      "21000 image converted\n",
      "21100 image converted\n",
      "21200 image converted\n",
      "21300 image converted\n",
      "21400 image converted\n",
      "21500 image converted\n",
      "21600 image converted\n",
      "21700 image converted\n",
      "21800 image converted\n",
      "21900 image converted\n",
      "22000 image converted\n",
      "22100 image converted\n",
      "22200 image converted\n",
      "22300 image converted\n",
      "22400 image converted\n",
      "22500 image converted\n",
      "22600 image converted\n",
      "22700 image converted\n",
      "22800 image converted\n",
      "22900 image converted\n",
      "23000 image converted\n",
      "23100 image converted\n",
      "23200 image converted\n",
      "23300 image converted\n",
      "23400 image converted\n",
      "23500 image converted\n",
      "23600 image converted\n",
      "23700 image converted\n",
      "23800 image converted\n",
      "23900 image converted\n",
      "24000 image converted\n",
      "24100 image converted\n",
      "24200 image converted\n",
      "24300 image converted\n",
      "24400 image converted\n",
      "24500 image converted\n",
      "24600 image converted\n",
      "24700 image converted\n",
      "24800 image converted\n",
      "24900 image converted\n",
      "25000 image converted\n",
      "25100 image converted\n",
      "25200 image converted\n",
      "25300 image converted\n",
      "25400 image converted\n",
      "25500 image converted\n",
      "25600 image converted\n",
      "25700 image converted\n",
      "25800 image converted\n",
      "25900 image converted\n",
      "26000 image converted\n",
      "26100 image converted\n",
      "26200 image converted\n",
      "26300 image converted\n",
      "26400 image converted\n",
      "26500 image converted\n",
      "26600 image converted\n"
     ]
    }
   ],
   "source": [
    "for n, image in enumerate(images_path):\n",
    "        ds = pydicom.dcmread(os.path.join(project_path, image))\n",
    "        pixel_array_numpy = ds.pixel_array\n",
    "        equalised_image = cv2.equalizeHist(pixel_array_numpy)\n",
    "        image = image.replace('.dcm', '.jpg')\n",
    "        # print(n)\n",
    "        # print(image)\n",
    "        cv2.imwrite(os.path.join(jpg_folder_path, image), equalised_image)\n",
    "        if n % 100 == 0:\n",
    "          print('{} image converted'.format(n))"
   ]
  },
  {
   "cell_type": "code",
   "execution_count": 0,
   "metadata": {
    "colab": {},
    "colab_type": "code",
    "id": "dVAR-yGnucgU"
   },
   "outputs": [],
   "source": [
    "project_path='/content/drive/My Drive/Capstone_Project/Data/jpg_training_images'\n",
    "os.chdir(project_path)"
   ]
  },
  {
   "cell_type": "code",
   "execution_count": 0,
   "metadata": {
    "colab": {
     "base_uri": "https://localhost:8080/",
     "height": 36
    },
    "colab_type": "code",
    "id": "-kpD2VsI2VPu",
    "outputId": "351a5ffc-450c-47bc-de78-1c81891069f5"
   },
   "outputs": [
    {
     "data": {
      "text/plain": [
       "26684"
      ]
     },
     "execution_count": 26,
     "metadata": {
      "tags": []
     },
     "output_type": "execute_result"
    }
   ],
   "source": [
    "jpg_folder_path='/content/drive/My Drive/Capstone_Project/Data/jpg_training_images'\n",
    "len(os.listdir(jpg_folder_path))"
   ]
  },
  {
   "cell_type": "code",
   "execution_count": 0,
   "metadata": {
    "colab": {},
    "colab_type": "code",
    "id": "doPMgbBJI_iF"
   },
   "outputs": [],
   "source": []
  }
 ],
 "metadata": {
  "colab": {
   "collapsed_sections": [],
   "name": "Downloading_Kaggle_Dataset_Directly_And_Converting_into_jpg_with_Image_enhancement (1).ipynb",
   "provenance": []
  },
  "kernelspec": {
   "display_name": "Python 3",
   "language": "python",
   "name": "python3"
  },
  "language_info": {
   "codemirror_mode": {
    "name": "ipython",
    "version": 3
   },
   "file_extension": ".py",
   "mimetype": "text/x-python",
   "name": "python",
   "nbconvert_exporter": "python",
   "pygments_lexer": "ipython3",
   "version": "3.7.3"
  }
 },
 "nbformat": 4,
 "nbformat_minor": 1
}
